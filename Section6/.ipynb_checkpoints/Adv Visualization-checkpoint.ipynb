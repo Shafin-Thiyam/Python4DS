{
 "cells": [
  {
   "cell_type": "code",
   "execution_count": null,
   "metadata": {},
   "outputs": [],
   "source": [
    "import pandas as pd\n",
    "import numpy as np\n",
    "import matplotlib.pyplot as plt\n",
    "import seaborn as sns\n",
    "import warnings\n",
    "import os\n",
    "%matplotlib inline"
   ]
  },
  {
   "cell_type": "code",
   "execution_count": null,
   "metadata": {},
   "outputs": [],
   "source": [
    "warnings.filterwarnings('ignore')"
   ]
  },
  {
   "cell_type": "code",
   "execution_count": null,
   "metadata": {},
   "outputs": [],
   "source": [
    "os.getcwd()"
   ]
  },
  {
   "cell_type": "code",
   "execution_count": null,
   "metadata": {},
   "outputs": [],
   "source": [
    "movies=pd.read_csv('Movie-Ratings.csv')"
   ]
  },
  {
   "cell_type": "code",
   "execution_count": null,
   "metadata": {},
   "outputs": [],
   "source": [
    "movies.head()"
   ]
  },
  {
   "cell_type": "code",
   "execution_count": null,
   "metadata": {},
   "outputs": [],
   "source": [
    "len(movies)"
   ]
  },
  {
   "cell_type": "code",
   "execution_count": null,
   "metadata": {},
   "outputs": [],
   "source": [
    "movies.columns"
   ]
  },
  {
   "cell_type": "code",
   "execution_count": null,
   "metadata": {},
   "outputs": [],
   "source": [
    "movies=movies.rename(columns={'Rotten Tomatoes Ratings %':'CriticsRatings','Audience Ratings %':'AudienceRatings','Budget (million $)':'BudgetMillion','Year of release':'Year'})\n",
    "movies.head()"
   ]
  },
  {
   "cell_type": "code",
   "execution_count": null,
   "metadata": {},
   "outputs": [],
   "source": [
    "movies.info()"
   ]
  },
  {
   "cell_type": "code",
   "execution_count": null,
   "metadata": {},
   "outputs": [],
   "source": [
    "movies.describe()"
   ]
  },
  {
   "cell_type": "markdown",
   "metadata": {},
   "source": [
    "```Year is shown as integer need to convert more relevant data type```"
   ]
  },
  {
   "cell_type": "code",
   "execution_count": null,
   "metadata": {},
   "outputs": [],
   "source": [
    "# convert to  category type\n",
    "movies.Film=movies.Film.astype('category')"
   ]
  },
  {
   "cell_type": "code",
   "execution_count": null,
   "metadata": {},
   "outputs": [],
   "source": [
    "movies.info()"
   ]
  },
  {
   "cell_type": "code",
   "execution_count": null,
   "metadata": {},
   "outputs": [],
   "source": [
    "movies.Genre=movies.Genre.astype('category')\n",
    "movies.Year=movies.Year.astype('category')\n",
    "movies.info()"
   ]
  },
  {
   "cell_type": "markdown",
   "metadata": {},
   "source": [
    "**To know unique value in the category**"
   ]
  },
  {
   "cell_type": "code",
   "execution_count": null,
   "metadata": {},
   "outputs": [],
   "source": [
    "movies.Genre.cat.categories"
   ]
  },
  {
   "cell_type": "code",
   "execution_count": null,
   "metadata": {},
   "outputs": [],
   "source": [
    "movies.Year.cat.categories"
   ]
  },
  {
   "cell_type": "markdown",
   "metadata": {},
   "source": [
    "#### Now year columns is not considered as integer hence we dont get details in decribe"
   ]
  },
  {
   "cell_type": "code",
   "execution_count": null,
   "metadata": {},
   "outputs": [],
   "source": [
    "movies.describe()"
   ]
  },
  {
   "cell_type": "markdown",
   "metadata": {},
   "source": [
    "**'All' will include non numeric fields as well since year no longer considered as numeric**"
   ]
  },
  {
   "cell_type": "code",
   "execution_count": null,
   "metadata": {},
   "outputs": [],
   "source": [
    "movies.describe(include='all')"
   ]
  },
  {
   "cell_type": "markdown",
   "metadata": {},
   "source": [
    "Signature:\n",
    "sns.jointplot(x, y, data=None, kind='scatter', stat_func=<function pearsonr at 0x0FC81348>, color=None, size=6, ratio=5, space=0.2, dropna=True, xlim=None, ylim=None, joint_kws=None, marginal_kws=None, annot_kws=None, **kwargs)\n",
    "\n",
    "Docstring:\n",
    "Draw a plot of two variables with bivariate and univariate graphs.\n",
    "\n",
    "This function provides a convenient interface to the :class:`JointGrid`\n",
    "class, with several canned plot kinds. This is intended to be a fairly\n",
    "lightweight wrapper; if you need more flexibility, you should use\n",
    ":class:`JointGrid` directly.\n",
    "\n",
    "Parameters\n",
    "----------\n",
    "1. x, y : strings or vectors\n",
    "    Data or names of variables in ``data``.\n",
    "2. data : DataFrame, optional\n",
    "    DataFrame when ``x`` and ``y`` are variable names.\n",
    "3. kind : { \"scatter\" | \"reg\" | \"resid\" | \"kde\" | \"hex\" }, optional\n",
    "    Kind of plot to draw.\n",
    "4. stat_func : callable or None, optional\n",
    "    Function used to calculate a statistic about the relationship and\n",
    "    annotate the plot. Should map `x` and `y` either to a single value\n",
    "    or to a (value, p) tuple. Set to ``None`` if you don't want to\n",
    "    annotate the plot.\n",
    "5. color : matplotlib color, optional\n",
    "    Color used for the plot elements.\n",
    "6. size : numeric, optional\n",
    "    Size of the figure (it will be square).\n",
    "7. ratio : numeric, optional\n",
    "    Ratio of joint axes size to marginal axes height.\n",
    "8. space : numeric, optional\n",
    "    Space between the joint and marginal axes\n",
    "9. dropna : bool, optional\n",
    "    If True, remove observations that are missing from ``x`` and ``y``.\n",
    "10.{x, y}lim : two-tuples, optional\n",
    "    Axis limits to set before plotting.\n",
    "11. {joint, marginal, annot}_kws : dicts, optional\n",
    "    Additional keyword arguments for the plot components.\n",
    "12. kwargs : key, value pairings\n",
    "    Additional keyword arguments are passed to the function used to\n",
    "    draw the plot on the joint Axes, superseding items in the\n",
    "    ``joint_kws`` dictionary.\n",
    "\n",
    "Returns\n",
    "-------\n",
    "grid : :class:`JointGrid`\n",
    "    :class:`JointGrid` object with the plot on it.\n",
    "\n",
    "See Also\n",
    "--------\n",
    "JointGrid : The Grid class used for drawing this plot. Use it directly if\n",
    "            you need more flexibility.\n",
    "\n",
    "Examples\n",
    "--------\n",
    "\n",
    "Draw a scatterplot with marginal histograms:\n",
    "\n",
    ".. plot::\n",
    "    :context: close-figs\n",
    "\n",
    "    >>> import numpy as np, pandas as pd; np.random.seed(0)\n",
    "    >>> import seaborn as sns; sns.set(style=\"white\", color_codes=True)\n",
    "    >>> tips = sns.load_dataset(\"tips\")\n",
    "    >>> g = sns.jointplot(x=\"total_bill\", y=\"tip\", data=tips)\n",
    "\n",
    "Add regression and kernel density fits:\n",
    "\n",
    ".. plot::\n",
    "    :context: close-figs\n",
    "\n",
    "    >>> g = sns.jointplot(\"total_bill\", \"tip\", data=tips, kind=\"reg\")\n",
    "\n",
    "Replace the scatterplot with a joint histogram using hexagonal bins:\n",
    "\n",
    ".. plot::\n",
    "    :context: close-figs\n",
    "\n",
    "    >>> g = sns.jointplot(\"total_bill\", \"tip\", data=tips, kind=\"hex\")\n",
    "\n",
    "Replace the scatterplots and histograms with density estimates and align\n",
    "the marginal Axes tightly with the joint Axes:\n",
    "\n",
    ".. plot::\n",
    "    :context: close-figs\n",
    "\n",
    "    >>> iris = sns.load_dataset(\"iris\")\n",
    "    >>> g = sns.jointplot(\"sepal_width\", \"petal_length\", data=iris,\n",
    "    ...                   kind=\"kde\", space=0, color=\"g\")\n",
    "\n",
    "Use a different statistic for the annotation:\n",
    "\n",
    ".. plot::\n",
    "    :context: close-figs\n",
    "\n",
    "    >>> from scipy.stats import spearmanr\n",
    "    >>> g = sns.jointplot(\"size\", \"total_bill\", data=tips,\n",
    "    ...                   stat_func=spearmanr, color=\"m\")\n",
    "\n",
    "Draw a scatterplot, then add a joint density estimate:\n",
    "\n",
    ".. plot::\n",
    "    :context: close-figs\n",
    "\n",
    "    >>> g = (sns.jointplot(\"sepal_length\", \"sepal_width\",\n",
    "    ...                    data=iris, color=\"k\")\n",
    "    ...         .plot_joint(sns.kdeplot, zorder=0, n_levels=6))\n",
    "\n",
    "Pass vectors in directly without using Pandas, then name the axes:\n",
    "\n",
    ".. plot::\n",
    "    :context: close-figs\n",
    "\n",
    "    >>> x, y = np.random.randn(2, 300)\n",
    "    >>> g = (sns.jointplot(x, y, kind=\"hex\", stat_func=None)\n",
    "    ...         .set_axis_labels(\"x\", \"y\"))\n",
    "\n",
    "Draw a smaller figure with more space devoted to the marginal plots:\n",
    "\n",
    ".. plot::\n",
    "    :context: close-figs\n",
    "\n",
    "    >>> g = sns.jointplot(\"total_bill\", \"tip\", data=tips,\n",
    "    ...                   size=5, ratio=3, color=\"g\")\n",
    "\n",
    "Pass keyword arguments down to the underlying plots:\n",
    "\n",
    ".. plot::\n",
    "    :context: close-figs\n",
    "\n",
    "    >>> g = sns.jointplot(\"petal_length\", \"sepal_length\", data=iris,\n",
    "    ...                   marginal_kws=dict(bins=15, rug=True),\n",
    "    ...                   annot_kws=dict(stat=\"r\"),\n",
    "    ...                   s=40, edgecolor=\"w\", linewidth=1)\n",
    "File:      c:\\python36\\lib\\site-packages\\seaborn\\axisgrid.py\n",
    "Type:      function"
   ]
  },
  {
   "cell_type": "code",
   "execution_count": null,
   "metadata": {},
   "outputs": [],
   "source": [
    "joinPlot=sns.jointplot(data=movies, x='CriticsRatings',y='AudienceRatings')"
   ]
  },
  {
   "cell_type": "code",
   "execution_count": null,
   "metadata": {},
   "outputs": [],
   "source": [
    "joinPlot1=sns.jointplot(data=movies, x='CriticsRatings',y='AudienceRatings',kind='kde')"
   ]
  },
  {
   "cell_type": "code",
   "execution_count": null,
   "metadata": {},
   "outputs": [],
   "source": [
    "joinPlot1=sns.jointplot(data=movies, x='CriticsRatings',y='AudienceRatings',kind='hex')"
   ]
  },
  {
   "cell_type": "code",
   "execution_count": null,
   "metadata": {},
   "outputs": [],
   "source": [
    "joinPlot2=sns.jointplot(data=movies, x='CriticsRatings',y='AudienceRatings',kind='reg',color='#9ACD32')"
   ]
  },
  {
   "cell_type": "code",
   "execution_count": null,
   "metadata": {},
   "outputs": [],
   "source": [
    "joinPlot2=sns.jointplot(data=movies, x='CriticsRatings',y='AudienceRatings',kind='resid')"
   ]
  },
  {
   "cell_type": "code",
   "execution_count": null,
   "metadata": {},
   "outputs": [],
   "source": [
    "movies.corr()"
   ]
  },
  {
   "cell_type": "markdown",
   "metadata": {},
   "source": [
    "---"
   ]
  },
  {
   "cell_type": "markdown",
   "metadata": {},
   "source": [
    "### Histogram"
   ]
  },
  {
   "cell_type": "code",
   "execution_count": null,
   "metadata": {},
   "outputs": [],
   "source": [
    "m1=sns.distplot(movies.AudienceRatings, bins=15)"
   ]
  },
  {
   "cell_type": "code",
   "execution_count": null,
   "metadata": {},
   "outputs": [],
   "source": [
    "m2=sns.distplot(movies.CriticsRatings, bins=15)"
   ]
  },
  {
   "cell_type": "code",
   "execution_count": null,
   "metadata": {},
   "outputs": [],
   "source": [
    "sns.set_style(\"white\")\n",
    "m3=plt.hist(movies.AudienceRatings,bins=15)"
   ]
  },
  {
   "cell_type": "code",
   "execution_count": null,
   "metadata": {},
   "outputs": [],
   "source": [
    "sns.set_style(\"darkgrid\")\n",
    "m3=plt.hist(movies.CriticsRatings,bins=15)"
   ]
  },
  {
   "cell_type": "markdown",
   "metadata": {
    "collapsed": true
   },
   "source": [
    "#### Stacked histogram"
   ]
  },
  {
   "cell_type": "code",
   "execution_count": null,
   "metadata": {},
   "outputs": [],
   "source": [
    "plt.hist(movies.BudgetMillion)\n",
    "plt.show();"
   ]
  },
  {
   "cell_type": "code",
   "execution_count": null,
   "metadata": {},
   "outputs": [],
   "source": [
    "movies.Genre.cat.categories.unique"
   ]
  },
  {
   "cell_type": "code",
   "execution_count": null,
   "metadata": {},
   "outputs": [],
   "source": [
    "movies[movies.Genre=='Drama'].head()"
   ]
  },
  {
   "cell_type": "code",
   "execution_count": null,
   "metadata": {},
   "outputs": [],
   "source": [
    "plt.hist(movies[movies.Genre=='Action'].BudgetMillion, bins=15)\n",
    "plt.hist(movies[movies.Genre=='Drama'].BudgetMillion, bins=15)\n",
    "plt.hist(movies[movies.Genre=='Thriller'].BudgetMillion, bins=15)\n",
    "plt.show();"
   ]
  },
  {
   "cell_type": "code",
   "execution_count": null,
   "metadata": {},
   "outputs": [],
   "source": [
    "plt.hist([movies[movies.Genre=='Action'].BudgetMillion, movies[movies.Genre=='Drama'].BudgetMillion, movies[movies.Genre=='Thriller'].BudgetMillion], bins=15)\n",
    "plt.show()"
   ]
  },
  {
   "cell_type": "code",
   "execution_count": null,
   "metadata": {},
   "outputs": [],
   "source": [
    "plt.hist([movies[movies.Genre=='Action'].BudgetMillion, \n",
    "          movies[movies.Genre=='Drama'].BudgetMillion,\n",
    "          movies[movies.Genre=='Thriller'].BudgetMillion], bins=15, stacked=True)\n",
    "plt.show()"
   ]
  },
  {
   "cell_type": "code",
   "execution_count": null,
   "metadata": {},
   "outputs": [],
   "source": [
    "for i in movies.Genre.cat.categories:\n",
    "    plt.hist(movies[movies.Genre==i].BudgetMillion, bins=15, stacked=True)\n",
    "plt.show();   "
   ]
  },
  {
   "cell_type": "code",
   "execution_count": null,
   "metadata": {},
   "outputs": [],
   "source": [
    "genre=[]\n",
    "legend=[]\n",
    "for i in movies.Genre.cat.categories:\n",
    "    genre.append(movies[movies.Genre==i].BudgetMillion)\n",
    "    legend.append(i)\n",
    "plt.hist(genre, bins=30, stacked=True,rwidth=1, label=legend)\n",
    "plt.legend()\n",
    "plt.show()"
   ]
  },
  {
   "cell_type": "markdown",
   "metadata": {},
   "source": [
    "#### KDE(Kernal Density Estimate) plot"
   ]
  },
  {
   "cell_type": "code",
   "execution_count": null,
   "metadata": {},
   "outputs": [],
   "source": [
    "sns.lmplot(data=movies, x='CriticsRatings',y='AudienceRatings',fit_reg=False,hue='Genre',size=5,aspect=1);"
   ]
  },
  {
   "cell_type": "code",
   "execution_count": null,
   "metadata": {},
   "outputs": [],
   "source": [
    "sns.kdeplot(movies.CriticsRatings,movies.AudienceRatings)"
   ]
  },
  {
   "cell_type": "code",
   "execution_count": null,
   "metadata": {},
   "outputs": [],
   "source": [
    "sns.kdeplot(movies.CriticsRatings,movies.AudienceRatings,shade=True)"
   ]
  },
  {
   "cell_type": "code",
   "execution_count": null,
   "metadata": {},
   "outputs": [],
   "source": [
    "sns.kdeplot(movies.CriticsRatings,movies.AudienceRatings,shade=True,shade_lowest=False,cmap='Reds')"
   ]
  },
  {
   "cell_type": "code",
   "execution_count": null,
   "metadata": {},
   "outputs": [],
   "source": [
    "k2=sns.kdeplot(movies.CriticsRatings,movies.AudienceRatings,shade=True,shade_lowest=False,cmap='Reds')\n",
    "k1=sns.kdeplot(movies.CriticsRatings,movies.AudienceRatings)"
   ]
  },
  {
   "cell_type": "code",
   "execution_count": null,
   "metadata": {},
   "outputs": [],
   "source": [
    "k2=sns.kdeplot(movies.CriticsRatings,movies.AudienceRatings,shade=True,shade_lowest=False,cmap='Reds',kernel='cos')\n",
    "k1=sns.kdeplot(movies.CriticsRatings,movies.AudienceRatings)"
   ]
  },
  {
   "cell_type": "code",
   "execution_count": null,
   "metadata": {},
   "outputs": [],
   "source": [
    "movies.head()"
   ]
  },
  {
   "cell_type": "code",
   "execution_count": null,
   "metadata": {},
   "outputs": [],
   "source": [
    "sns.set_style('dark')\n",
    "sns.kdeplot(movies.BudgetMillion,movies.AudienceRatings);"
   ]
  },
  {
   "cell_type": "code",
   "execution_count": null,
   "metadata": {},
   "outputs": [],
   "source": [
    "sns.kdeplot(movies.BudgetMillion,movies.CriticsRatings)"
   ]
  },
  {
   "cell_type": "markdown",
   "metadata": {},
   "source": [
    "#### Subplots"
   ]
  },
  {
   "cell_type": "code",
   "execution_count": null,
   "metadata": {},
   "outputs": [],
   "source": [
    "f, axes =plt.subplots(1,2, figsize=(12,6),sharex=True,sharey=True)\n",
    "k1=sns.kdeplot(movies.BudgetMillion,movies.AudienceRatings,ax=axes[0]);\n",
    "k2=sns.kdeplot(movies.BudgetMillion,movies.CriticsRatings,ax=axes[1]);\n",
    "k1.set(xlim=(-20,160))"
   ]
  },
  {
   "cell_type": "code",
   "execution_count": null,
   "metadata": {},
   "outputs": [],
   "source": [
    "f"
   ]
  },
  {
   "cell_type": "code",
   "execution_count": null,
   "metadata": {},
   "outputs": [],
   "source": [
    "axes"
   ]
  },
  {
   "cell_type": "markdown",
   "metadata": {},
   "source": [
    "### Violon plots and box plot"
   ]
  },
  {
   "cell_type": "code",
   "execution_count": null,
   "metadata": {},
   "outputs": [],
   "source": [
    "vp1=sns.violinplot(data=movies,x='Genre',y='CriticsRatings')"
   ]
  },
  {
   "cell_type": "code",
   "execution_count": null,
   "metadata": {},
   "outputs": [],
   "source": [
    "bp1=sns.boxplot(data=movies,x='Genre',y='CriticsRatings')"
   ]
  },
  {
   "cell_type": "code",
   "execution_count": null,
   "metadata": {},
   "outputs": [],
   "source": [
    "vp1=sns.violinplot(data=movies[movies.Genre=='Drama'],x='Year',y='CriticsRatings')"
   ]
  },
  {
   "cell_type": "code",
   "execution_count": null,
   "metadata": {},
   "outputs": [],
   "source": [
    "vp1=sns.boxplot(data=movies[movies.Genre=='Drama'],x='Year',y='CriticsRatings')"
   ]
  },
  {
   "cell_type": "code",
   "execution_count": null,
   "metadata": {},
   "outputs": [],
   "source": []
  }
 ],
 "metadata": {
  "kernelspec": {
   "display_name": "Python 3",
   "language": "python",
   "name": "python3"
  },
  "language_info": {
   "codemirror_mode": {
    "name": "ipython",
    "version": 3
   },
   "file_extension": ".py",
   "mimetype": "text/x-python",
   "name": "python",
   "nbconvert_exporter": "python",
   "pygments_lexer": "ipython3",
   "version": "3.6.4"
  }
 },
 "nbformat": 4,
 "nbformat_minor": 2
}
