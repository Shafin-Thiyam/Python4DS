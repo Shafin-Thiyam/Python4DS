{
 "cells": [
  {
   "cell_type": "markdown",
   "metadata": {},
   "source": [
    "# Section 3 Assignment\n",
    "####  Financial Statement Analysis"
   ]
  },
  {
   "cell_type": "code",
   "execution_count": 10,
   "metadata": {
    "collapsed": true
   },
   "outputs": [],
   "source": [
    "import numpy as np\n",
    "import pandas as pd"
   ]
  },
  {
   "cell_type": "code",
   "execution_count": 2,
   "metadata": {
    "collapsed": true
   },
   "outputs": [],
   "source": [
    "#Data \n",
    "revenue = [14574.49, 7606.46, 8611.41, 9175.41, 8058.65, 8105.44, 11496.28, 9766.09, 10305.32, 14379.96, 10713.97, 15433.50]\n",
    "expenses = [12051.82, 5695.07, 12319.20, 12089.72, 8658.57, 840.20, 3285.73, 5821.12, 6976.93, 16618.61, 10054.37, 3803.96]"
   ]
  },
  {
   "cell_type": "code",
   "execution_count": 3,
   "metadata": {
    "collapsed": true
   },
   "outputs": [],
   "source": [
    "np_rev=np.array(revenue)\n",
    "np_exp=np.array(expenses)"
   ]
  },
  {
   "cell_type": "code",
   "execution_count": 30,
   "metadata": {},
   "outputs": [
    {
     "data": {
      "text/plain": [
       "array([  2522.67,   1911.39,  -3707.79,  -2914.31,   -599.92,   7265.24,\n",
       "         8210.55,   3944.97,   3328.39,  -2238.65,    659.6 ,  11629.54])"
      ]
     },
     "execution_count": 30,
     "metadata": {},
     "output_type": "execute_result"
    }
   ],
   "source": [
    "monthly_profit=np.round(np_rev-np_exp,2)\n",
    "monthly_profit"
   ]
  },
  {
   "cell_type": "code",
   "execution_count": 31,
   "metadata": {},
   "outputs": [
    {
     "data": {
      "text/plain": [
       "array([ 1765.87,  1337.97, -2595.45, -2040.02,  -419.94,  5085.67,\n",
       "        5747.38,  2761.48,  2329.87, -1567.06,   461.72,  8140.68])"
      ]
     },
     "execution_count": 31,
     "metadata": {},
     "output_type": "execute_result"
    }
   ],
   "source": [
    "monthly_profit_aftertax=np.round(monthly_profit-monthly_profit*.3,2)\n",
    "monthly_profit_aftertax"
   ]
  },
  {
   "cell_type": "code",
   "execution_count": 32,
   "metadata": {},
   "outputs": [
    {
     "data": {
      "text/html": [
       "<div>\n",
       "<style scoped>\n",
       "    .dataframe tbody tr th:only-of-type {\n",
       "        vertical-align: middle;\n",
       "    }\n",
       "\n",
       "    .dataframe tbody tr th {\n",
       "        vertical-align: top;\n",
       "    }\n",
       "\n",
       "    .dataframe thead th {\n",
       "        text-align: right;\n",
       "    }\n",
       "</style>\n",
       "<table border=\"1\" class=\"dataframe\">\n",
       "  <thead>\n",
       "    <tr style=\"text-align: right;\">\n",
       "      <th></th>\n",
       "      <th>performance</th>\n",
       "    </tr>\n",
       "  </thead>\n",
       "  <tbody>\n",
       "    <tr>\n",
       "      <th>Jan</th>\n",
       "      <td>1765.87</td>\n",
       "    </tr>\n",
       "    <tr>\n",
       "      <th>Feb</th>\n",
       "      <td>1337.97</td>\n",
       "    </tr>\n",
       "    <tr>\n",
       "      <th>Mar</th>\n",
       "      <td>-2595.45</td>\n",
       "    </tr>\n",
       "    <tr>\n",
       "      <th>Apr</th>\n",
       "      <td>-2040.02</td>\n",
       "    </tr>\n",
       "    <tr>\n",
       "      <th>May</th>\n",
       "      <td>-419.94</td>\n",
       "    </tr>\n",
       "    <tr>\n",
       "      <th>Jun</th>\n",
       "      <td>5085.67</td>\n",
       "    </tr>\n",
       "    <tr>\n",
       "      <th>Jul</th>\n",
       "      <td>5747.38</td>\n",
       "    </tr>\n",
       "    <tr>\n",
       "      <th>Aug</th>\n",
       "      <td>2761.48</td>\n",
       "    </tr>\n",
       "    <tr>\n",
       "      <th>Sep</th>\n",
       "      <td>2329.87</td>\n",
       "    </tr>\n",
       "    <tr>\n",
       "      <th>Oct</th>\n",
       "      <td>-1567.06</td>\n",
       "    </tr>\n",
       "    <tr>\n",
       "      <th>Nov</th>\n",
       "      <td>461.72</td>\n",
       "    </tr>\n",
       "    <tr>\n",
       "      <th>Dec</th>\n",
       "      <td>8140.68</td>\n",
       "    </tr>\n",
       "  </tbody>\n",
       "</table>\n",
       "</div>"
      ],
      "text/plain": [
       "     performance\n",
       "Jan      1765.87\n",
       "Feb      1337.97\n",
       "Mar     -2595.45\n",
       "Apr     -2040.02\n",
       "May      -419.94\n",
       "Jun      5085.67\n",
       "Jul      5747.38\n",
       "Aug      2761.48\n",
       "Sep      2329.87\n",
       "Oct     -1567.06\n",
       "Nov       461.72\n",
       "Dec      8140.68"
      ]
     },
     "execution_count": 32,
     "metadata": {},
     "output_type": "execute_result"
    }
   ],
   "source": [
    "yearly_performance=pd.DataFrame(columns=['performance'], data=monthly_profit_aftertax, index=['Jan','Feb','Mar','Apr','May','Jun','Jul','Aug','Sep','Oct','Nov','Dec'])\n",
    "yearly_performance"
   ]
  },
  {
   "cell_type": "code",
   "execution_count": 53,
   "metadata": {},
   "outputs": [
    {
     "data": {
      "text/plain": [
       "1750.7"
      ]
     },
     "execution_count": 53,
     "metadata": {},
     "output_type": "execute_result"
    }
   ],
   "source": [
    "profit_mean=np.round(monthly_profit_aftertax.mean(),1)\n",
    "profit_mean"
   ]
  },
  {
   "cell_type": "code",
   "execution_count": 34,
   "metadata": {},
   "outputs": [
    {
     "data": {
      "text/plain": [
       "8140.6800000000003"
      ]
     },
     "execution_count": 34,
     "metadata": {},
     "output_type": "execute_result"
    }
   ],
   "source": [
    "Best_Month= monthly_profit_aftertax.max()\n",
    "Best_Month"
   ]
  },
  {
   "cell_type": "code",
   "execution_count": 35,
   "metadata": {},
   "outputs": [
    {
     "data": {
      "text/plain": [
       "-2595.4499999999998"
      ]
     },
     "execution_count": 35,
     "metadata": {},
     "output_type": "execute_result"
    }
   ],
   "source": [
    "worst_month=monthly_profit_aftertax.min()\n",
    "worst_month"
   ]
  },
  {
   "cell_type": "code",
   "execution_count": 50,
   "metadata": {},
   "outputs": [
    {
     "data": {
      "text/plain": [
       "[1765.9000000000001,\n",
       " 5085.6999999999998,\n",
       " 5747.3999999999996,\n",
       " 2761.5,\n",
       " 2329.9000000000001,\n",
       " 8140.6999999999998]"
      ]
     },
     "execution_count": 50,
     "metadata": {},
     "output_type": "execute_result"
    }
   ],
   "source": [
    "Good_Month=[]\n",
    "for i in monthly_profit_aftertax:\n",
    "    if i >=profit_mean:\n",
    "        Good_Month.append(round(i,1))\n",
    "   \n",
    "Good_Month"
   ]
  },
  {
   "cell_type": "code",
   "execution_count": 52,
   "metadata": {},
   "outputs": [
    {
     "data": {
      "text/plain": [
       "[1338.0,\n",
       " -2595.4000000000001,\n",
       " -2040.0,\n",
       " -419.89999999999998,\n",
       " -1567.0999999999999,\n",
       " 461.69999999999999]"
      ]
     },
     "execution_count": 52,
     "metadata": {},
     "output_type": "execute_result"
    }
   ],
   "source": [
    "bad_month=[]\n",
    "for i in monthly_profit_aftertax:\n",
    "    if i <profit_mean:\n",
    "        bad_month.append(round(i,1))\n",
    "   \n",
    "bad_month"
   ]
  },
  {
   "cell_type": "code",
   "execution_count": 58,
   "metadata": {},
   "outputs": [
    {
     "data": {
      "text/plain": [
       "[12.1,\n",
       " 17.600000000000001,\n",
       " -30.100000000000001,\n",
       " -22.199999999999999,\n",
       " -5.2000000000000002,\n",
       " 62.700000000000003,\n",
       " 50.0,\n",
       " 28.300000000000001,\n",
       " 22.600000000000001,\n",
       " -10.9,\n",
       " 4.2999999999999998,\n",
       " 52.700000000000003]"
      ]
     },
     "execution_count": 58,
     "metadata": {},
     "output_type": "execute_result"
    }
   ],
   "source": [
    "profit_margin = []\n",
    "for i in range (0, len(monthly_profit_aftertax)):\n",
    "    profit_margin.append(monthly_profit_aftertax[i] / revenue[i])\n",
    "profit_margin\n",
    "\n",
    "profit_margin = [round((i*100),1) for i in profit_margin]\n",
    "\n",
    "profit_margin"
   ]
  },
  {
   "cell_type": "code",
   "execution_count": 54,
   "metadata": {
    "collapsed": true
   },
   "outputs": [],
   "source": [
    "#Convert All Calculations To Units Of One Thousand Dollars\n",
    "revenue_1000 = [round(i/1000, 2) for i in np_rev]\n",
    "expenses_1000 = [round(i/1000, 2) for i in np_exp]\n",
    "profit_1000 = [round(i/1000, 2) for i in monthly_profit]\n",
    "profit_after_tax_1000 = [round(i/1000, 2) for i in monthly_profit]\n",
    "\n",
    "revenue_1000 = [int(i) for i in revenue_1000]\n",
    "expenses_1000 = [int(i) for i in expenses_1000]\n",
    "profit_1000 = [int(i) for i in profit_1000]\n",
    "profit_after_tax_1000 = [int(i) for i in profit_after_tax_1000]"
   ]
  },
  {
   "cell_type": "code",
   "execution_count": 55,
   "metadata": {},
   "outputs": [
    {
     "name": "stdout",
     "output_type": "stream",
     "text": [
      "Revenue :\n",
      "[14, 7, 8, 9, 8, 8, 11, 9, 10, 14, 10, 15]\n",
      "Expenses :\n",
      "[12, 5, 12, 12, 8, 0, 3, 5, 6, 16, 10, 3]\n",
      "Profit :\n",
      "[2, 1, -3, -2, 0, 7, 8, 3, 3, -2, 0, 11]\n",
      "Profit after tax :\n",
      "[2, 1, -3, -2, 0, 7, 8, 3, 3, -2, 0, 11]\n",
      "Good months :\n",
      "[1765.9000000000001, 5085.6999999999998, 5747.3999999999996, 2761.5, 2329.9000000000001, 8140.6999999999998]\n",
      "Bad months :\n",
      "[1338.0, -2595.4000000000001, -2040.0, -419.89999999999998, -1567.0999999999999, 461.69999999999999]\n",
      "Best month :\n",
      "8140.68\n",
      "Worst month :\n",
      "[1338.0, -2595.4000000000001, -2040.0, -419.89999999999998, -1567.0999999999999, 461.69999999999999]\n"
     ]
    }
   ],
   "source": [
    "#Print Results\n",
    "print (\"Revenue :\") \n",
    "print (revenue_1000)\n",
    "print (\"Expenses :\") \n",
    "print (expenses_1000)\n",
    "print (\"Profit :\")\n",
    "print(profit_1000)\n",
    "print (\"Profit after tax :\")\n",
    "print (profit_after_tax_1000)\n",
    "#print (\"Profit margin :\")\n",
    "#print (profit_margin)\n",
    "print (\"Good months :\")\n",
    "print (Good_Month)\n",
    "print (\"Bad months :\")\n",
    "print (bad_month)\n",
    "print (\"Best month :\")\n",
    "print (Best_Month)\n",
    "print (\"Worst month :\")\n",
    "print (worst_month)"
   ]
  },
  {
   "cell_type": "code",
   "execution_count": null,
   "metadata": {
    "collapsed": true
   },
   "outputs": [],
   "source": []
  }
 ],
 "metadata": {
  "kernelspec": {
   "display_name": "Python 3",
   "language": "python",
   "name": "python3"
  },
  "language_info": {
   "codemirror_mode": {
    "name": "ipython",
    "version": 3
   },
   "file_extension": ".py",
   "mimetype": "text/x-python",
   "name": "python",
   "nbconvert_exporter": "python",
   "pygments_lexer": "ipython3",
   "version": "3.6.1"
  }
 },
 "nbformat": 4,
 "nbformat_minor": 2
}
